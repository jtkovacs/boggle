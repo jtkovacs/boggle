{
 "cells": [
  {
   "cell_type": "markdown",
   "metadata": {},
   "source": [
    "## Game of Boogle\n",
    "\n",
    "- **Browser-based play**: *Instructions TKTK; FLASK??*\n",
    "- **Console-based play**: \n",
    " - Download Boggle.py from link\n",
    " - Launch console\n",
    " - python3 Boggle.py"
   ]
  },
  {
   "cell_type": "markdown",
   "metadata": {},
   "source": [
    "### LIBRARIES"
   ]
  },
  {
   "cell_type": "code",
   "execution_count": 1,
   "metadata": {
    "collapsed": false
   },
   "outputs": [],
   "source": [
    "import random\n",
    "import os\n",
    "import time\n",
    "from collections import defaultdict\n",
    "from nltk.corpus import words\n",
    "import urllib.request"
   ]
  },
  {
   "cell_type": "markdown",
   "metadata": {},
   "source": [
    "### LAUNCH GAME"
   ]
  },
  {
   "cell_type": "code",
   "execution_count": 2,
   "metadata": {
    "collapsed": false
   },
   "outputs": [],
   "source": [
    "def clear_console():\n",
    "    \"\"\"Clears the console (need this to ensure turns are private).\n",
    "    \"\"\"\n",
    "    os.system('cls' if os.name=='nt' else 'clear')\n",
    "\n",
    "    \n",
    "def launch_game():\n",
    "    \"\"\" Elicits user input for game parameters; checks validity of input.\n",
    "    Returns list of game parameters: [player_names, num_players, seconds_per_turn]. \n",
    "    E.g. [[\"Jacob\", \"Casey\"], 2, 180]\n",
    "    \"\"\"\n",
    "    \n",
    "    clear_console()\n",
    "    \n",
    "    print(\"\\n\\tWELCOME!\", \"PLEASE REVIEW RULES: http://www.wikihow.com/Play-Boggle\", \n",
    "              \"PLEASE SET UP GAME PARAMETERS:\", sep=\"\\n\\n\\t\")\n",
    "    \n",
    "    # get number of players\n",
    "    num_players = 0\n",
    "    while num_players < 2:\n",
    "        try: num_players = int(input(\"\\n\\t  How many players? \"))\n",
    "        except: print(\"\\t\\t Integer input required.\")\n",
    "    \n",
    "    # get list of player names\n",
    "    list_players = []\n",
    "    while len(list_players) != num_players:\n",
    "        try: \n",
    "            list_players = str(input(\"\\t  Player names, separated by commas: \")).split(\",\")\n",
    "            list_players = [player.strip() for player in list_players]\n",
    "        except: print(\"\\t\\t String input required.\")\n",
    "    \n",
    "    # get duration of turns (in seconds)\n",
    "    len_turns = 0\n",
    "    while len_turns < 30 or len_turns > 180:\n",
    "        try: len_turns = int(input(\"\\t  How many seconds per turn? (max: 180, min: 30) \"))\n",
    "        except: print(\"\\t\\t Integer input required.\")\n",
    "            \n",
    "    return list_players, num_players, len_turns"
   ]
  },
  {
   "cell_type": "markdown",
   "metadata": {},
   "source": [
    "### CREATE GAME BOARD"
   ]
  },
  {
   "cell_type": "code",
   "execution_count": 4,
   "metadata": {
    "collapsed": false
   },
   "outputs": [],
   "source": [
    "def create_board():\n",
    "    \"\"\"Creates a 4x4 'board' of random letters.\n",
    "    Returns 'board' of 16 letters as flat list for calculations. \n",
    "    Use show_board(create_board()) to display 16 letters as 4x4 table for players.\n",
    "    \"\"\"\n",
    "    alph = ['a ','a ','a ','b ','b ','c ','c ','d ','d ','e ','e ','e ',\n",
    "                'f ','g ','h ','i ','i ','i ','j ','k ','l ','l ','m ','m ',\n",
    "                'n ','n ','o ','o ','o ','p ','q ','r ','r ','s ','s ',\n",
    "                't ','t ','u ','u ','v ','w ','x ','y ','y ','y ','z ']\n",
    "    boggle_board = random.sample(alph, 16)\n",
    "    return boggle_board\n",
    "\n",
    "def show_board(boggle_board):\n",
    "    \"\"\"Prints 4x4 Boggle board for players to examine.\n",
    "    Argument: List of 16 letters from create_board().\n",
    "    \"\"\"  \n",
    "    print('\\t  '+' '.join(boggle_board[0:4]))\n",
    "    print('\\t  '+' '.join(boggle_board[4:8]))\n",
    "    print('\\t  '+' '.join(boggle_board[8:12]))\n",
    "    print('\\t  '+' '.join(boggle_board[12:16])+'\\n')"
   ]
  },
  {
   "cell_type": "markdown",
   "metadata": {},
   "source": [
    "### TRACK PLAYS"
   ]
  },
  {
   "cell_type": "code",
   "execution_count": 6,
   "metadata": {
    "collapsed": false
   },
   "outputs": [],
   "source": [
    "def track_plays(player_list, len_turns, boggle_board):\n",
    "    \"\"\"Gives each player a time-limited turn to record the words they see on the board.\n",
    "    \n",
    "    Arguments: \n",
    "    player_list is a list of player names, e.g. [\"Casey\",\"Jacob\"]\n",
    "    len_turns is the integer duration of a turn in seconds.\n",
    "    boggle_board is a list of 16 letters from create_board().\n",
    "    \n",
    "    Returns a list of tuples; each tuple is (player_name, word_played)\n",
    "    E.g. [('Jacob', 'two'), ('Jacob', 'malice'), ('Casey','toss')]\n",
    "    \"\"\"\n",
    "\n",
    "    play_tracker = list()\n",
    "    for name in player_list:\n",
    "        \n",
    "        clear_console()\n",
    "        print(\"\\n\\tOK, \" + name + \", it's your turn.\\n\")\n",
    "        show_board(boggle_board)\n",
    "        print(\"\\tEnter a legal word and hit return:\\n\")\n",
    "\n",
    "        elapsed_time = 0\n",
    "        while elapsed_time < len_turns:\n",
    "            start_time = time.time()\n",
    "            word = input(\"\\t  >> \")\n",
    "            play_tracker.append((name, word))\n",
    "            end_time = time.time()\n",
    "            time_delta = end_time - start_time\n",
    "            elapsed_time += time_delta\n",
    "        \n",
    "    return play_tracker"
   ]
  },
  {
   "cell_type": "markdown",
   "metadata": {},
   "source": [
    "### VALIDATE PLAYS"
   ]
  },
  {
   "cell_type": "code",
   "execution_count": 7,
   "metadata": {
    "collapsed": false
   },
   "outputs": [],
   "source": [
    "def validate_plays(play_tracker, boggle_board):\n",
    "    \"\"\"Eliminates plays that violate game rules.\n",
    "    \n",
    "    Arguments: \n",
    "    play_tracker is a list of tuples: [(player_name, word_played), (player_name, word_played), ...]\n",
    "    boggle_board is a list of 16 letters from create_board().\n",
    "    \n",
    "    Returns: \n",
    "    play_tracker, as above but removed all tuples representing illegal plays.\n",
    "    \"\"\"\n",
    "    \n",
    "    # since play_tracker is player_name-to-word mapping,\n",
    "    # create dictionary: word-to-player_name mapping\n",
    "    word_to_players = defaultdict(list)\n",
    "    for name, word in play_tracker:\n",
    "        word_to_players[word].append(name)\n",
    "        \n",
    "    for word in word_to_players.keys():\n",
    "        # remove reduntant player names\n",
    "        word_to_players[word] = set(word_to_players[word])\n",
    "        # validate plays against 'unique word' rule\n",
    "        if len(word_to_players[word]) > 1: \n",
    "            play_tracker = [play for play in play_tracker if play[1] != word]\n",
    "            \n",
    "    # validate plays against 'longer than 2 letters' rule\n",
    "    play_tracker = [play for play in play_tracker if len(play[1]) > 2]\n",
    "            \n",
    "    # validate plays against 'English language' rule\n",
    "    play_tracker = [play for play in play_tracker if play[1] in words.words()]\n",
    "    \n",
    "    # validate plays against letters on board   \n",
    "    # fetch results from online Boggle solver\n",
    "    board_as_str = ''.join([i.strip() for i in boggle_board])\n",
    "    my_url = \"http://fuzzylogicinc.net/boggle/Solver.svc?BoardID=\"+board_as_str+\"&Length=3\"\n",
    "    with urllib.request.urlopen(my_url) as response:\n",
    "        boggle_page = response.read()\n",
    "    my_page = boggle_page.decode('utf-8')\n",
    "    my_index = my_page.find(\":[\") + 1\n",
    "    my_page = my_page[my_index:]            \n",
    "    my_page = my_page.replace('[','')\n",
    "    my_page = my_page.replace(']','')\n",
    "    my_page = my_page.replace('{','')\n",
    "    my_page = my_page.replace('}','')\n",
    "    my_page = my_page.split(',')\n",
    "    my_list_of_lists = list()\n",
    "    for i in range(len(my_page)):\n",
    "        my_list_of_lists.append(my_page[i].split(':'))\n",
    "    my_list_of_words = list()\n",
    "    for item in my_list_of_lists:\n",
    "        my_list_of_words.append(item[1])\n",
    "    all_possible_words = [i[1] for i in my_list_of_lists if not i[1].find('\"')]\n",
    "    solver_results = [i.replace('\"','') for i in all_possible_words]\n",
    "\n",
    "    # check if each play in play_tracker is in solver_results\n",
    "    play_tracker = [play for play in play_tracker if play[1] in solver_results]            \n",
    "        \n",
    "    return play_tracker"
   ]
  },
  {
   "cell_type": "markdown",
   "metadata": {},
   "source": [
    "### SCORE PLAYS"
   ]
  },
  {
   "cell_type": "code",
   "execution_count": 9,
   "metadata": {
    "collapsed": false
   },
   "outputs": [],
   "source": [
    "def score_plays(player_list, play_tracker, boggle_board):\n",
    "    \"\"\"Assign scores to players, and display scores.\n",
    "    \n",
    "    Arguments:\n",
    "    player_list is a list of player names, e.g. [\"Casey\",\"Jacob\"]    \n",
    "    play_tracker is a list of tuples: [(player_name, word_played), (player_name, word_played), ...]\n",
    "    boggle_board is a list of 16 letters from create_board().\n",
    "    \"\"\"\n",
    "    \n",
    "    clear_console()\n",
    "    \n",
    "    # go word for word, assign points based on length\n",
    "    player_to_scores = defaultdict(int)\n",
    "    for name, word in play_tracker:\n",
    "        score = 0\n",
    "        word_length = len(word)\n",
    "        if word_length < 5: score = 1\n",
    "        elif word_length < 6: score = 2\n",
    "        elif word_length < 7: score = 3\n",
    "        elif word_length < 8: score = 5\n",
    "        else: score = 11\n",
    "        player_to_scores[name] += score\n",
    "        \n",
    "    # invert word_to_players\n",
    "    player_to_words = defaultdict(list)\n",
    "    for name, word in play_tracker:\n",
    "        player_to_words[name].append(word)\n",
    "            \n",
    "    # show board\n",
    "    print()\n",
    "    show_board(boggle_board)\n",
    "    for i in range(len(player_list)):\n",
    "        player = player_list[i]\n",
    "        total_points = player_to_scores[player]\n",
    "        words_played = player_to_words[player]\n",
    "        print(\"\\t {} scored {} points for {}\".format(player, total_points, words_played))\n",
    "    print()"
   ]
  },
  {
   "cell_type": "markdown",
   "metadata": {},
   "source": [
    "### PLAY GAME"
   ]
  },
  {
   "cell_type": "code",
   "execution_count": 10,
   "metadata": {
    "collapsed": false
   },
   "outputs": [],
   "source": [
    "def play_game():\n",
    "    my_game = launch_game()\n",
    "    my_board = create_board()\n",
    "    my_plays = track_plays(my_game[0], my_game[2], my_board)\n",
    "    my_validated_plays = validate_plays(my_plays, my_board)\n",
    "    my_results = score_plays(my_game[0], my_validated_plays, my_board)"
   ]
  },
  {
   "cell_type": "code",
   "execution_count": 11,
   "metadata": {
    "collapsed": false
   },
   "outputs": [
    {
     "name": "stdout",
     "output_type": "stream",
     "text": [
      "\n",
      "\tWELCOME!\n",
      "\n",
      "\tPLEASE REVIEW RULES: http://www.wikihow.com/Play-Boggle\n",
      "\n",
      "\tPLEASE SET UP GAME PARAMETERS:\n",
      "\n",
      "\t  How many players? 2\n",
      "\t  Player names, separated by commas: Jacob, Casey\n",
      "\t  How many seconds per turn? (max: 180, min: 30) 30\n",
      "\n",
      "\tOK, Jacob, it's your turn.\n",
      "\n",
      "\t  j  o  w  y \n",
      "\t  m  l  k  v \n",
      "\t  h  c  t  o \n",
      "\t  e  o  e  a \n",
      "\n",
      "\tEnter a legal word and hit return:\n",
      "\n",
      "\t  >> mow\n",
      "\t  >> oat\n",
      "\t  >> toe\n",
      "\t  >> tao\n",
      "\t  >> cte\n",
      "\t  >> clow\n",
      "\n",
      "\tOK, Casey, it's your turn.\n",
      "\n",
      "\t  j  o  w  y \n",
      "\t  m  l  k  v \n",
      "\t  h  c  t  o \n",
      "\t  e  o  e  a \n",
      "\n",
      "\tEnter a legal word and hit return:\n",
      "\n",
      "\t  >> cot\n",
      "\t  >> molt\n",
      "\t  >> toe\n",
      "\t  >> tock\n",
      "\t  >> hock\n",
      "\t  >> vote\n"
     ]
    },
    {
     "ename": "URLError",
     "evalue": "<urlopen error [Errno 111] Connection refused>",
     "output_type": "error",
     "traceback": [
      "\u001b[1;31m---------------------------------------------------------------------------\u001b[0m",
      "\u001b[1;31mConnectionRefusedError\u001b[0m                    Traceback (most recent call last)",
      "\u001b[1;32m/usr/lib/python3.5/urllib/request.py\u001b[0m in \u001b[0;36mdo_open\u001b[1;34m(self, http_class, req, **http_conn_args)\u001b[0m\n\u001b[0;32m   1253\u001b[0m             \u001b[1;32mtry\u001b[0m\u001b[1;33m:\u001b[0m\u001b[1;33m\u001b[0m\u001b[0m\n\u001b[1;32m-> 1254\u001b[1;33m                 \u001b[0mh\u001b[0m\u001b[1;33m.\u001b[0m\u001b[0mrequest\u001b[0m\u001b[1;33m(\u001b[0m\u001b[0mreq\u001b[0m\u001b[1;33m.\u001b[0m\u001b[0mget_method\u001b[0m\u001b[1;33m(\u001b[0m\u001b[1;33m)\u001b[0m\u001b[1;33m,\u001b[0m \u001b[0mreq\u001b[0m\u001b[1;33m.\u001b[0m\u001b[0mselector\u001b[0m\u001b[1;33m,\u001b[0m \u001b[0mreq\u001b[0m\u001b[1;33m.\u001b[0m\u001b[0mdata\u001b[0m\u001b[1;33m,\u001b[0m \u001b[0mheaders\u001b[0m\u001b[1;33m)\u001b[0m\u001b[1;33m\u001b[0m\u001b[0m\n\u001b[0m\u001b[0;32m   1255\u001b[0m             \u001b[1;32mexcept\u001b[0m \u001b[0mOSError\u001b[0m \u001b[1;32mas\u001b[0m \u001b[0merr\u001b[0m\u001b[1;33m:\u001b[0m \u001b[1;31m# timeout error\u001b[0m\u001b[1;33m\u001b[0m\u001b[0m\n",
      "\u001b[1;32m/usr/lib/python3.5/http/client.py\u001b[0m in \u001b[0;36mrequest\u001b[1;34m(self, method, url, body, headers)\u001b[0m\n\u001b[0;32m   1105\u001b[0m         \u001b[1;34m\"\"\"Send a complete request to the server.\"\"\"\u001b[0m\u001b[1;33m\u001b[0m\u001b[0m\n\u001b[1;32m-> 1106\u001b[1;33m         \u001b[0mself\u001b[0m\u001b[1;33m.\u001b[0m\u001b[0m_send_request\u001b[0m\u001b[1;33m(\u001b[0m\u001b[0mmethod\u001b[0m\u001b[1;33m,\u001b[0m \u001b[0murl\u001b[0m\u001b[1;33m,\u001b[0m \u001b[0mbody\u001b[0m\u001b[1;33m,\u001b[0m \u001b[0mheaders\u001b[0m\u001b[1;33m)\u001b[0m\u001b[1;33m\u001b[0m\u001b[0m\n\u001b[0m\u001b[0;32m   1107\u001b[0m \u001b[1;33m\u001b[0m\u001b[0m\n",
      "\u001b[1;32m/usr/lib/python3.5/http/client.py\u001b[0m in \u001b[0;36m_send_request\u001b[1;34m(self, method, url, body, headers)\u001b[0m\n\u001b[0;32m   1150\u001b[0m             \u001b[0mbody\u001b[0m \u001b[1;33m=\u001b[0m \u001b[0m_encode\u001b[0m\u001b[1;33m(\u001b[0m\u001b[0mbody\u001b[0m\u001b[1;33m,\u001b[0m \u001b[1;34m'body'\u001b[0m\u001b[1;33m)\u001b[0m\u001b[1;33m\u001b[0m\u001b[0m\n\u001b[1;32m-> 1151\u001b[1;33m         \u001b[0mself\u001b[0m\u001b[1;33m.\u001b[0m\u001b[0mendheaders\u001b[0m\u001b[1;33m(\u001b[0m\u001b[0mbody\u001b[0m\u001b[1;33m)\u001b[0m\u001b[1;33m\u001b[0m\u001b[0m\n\u001b[0m\u001b[0;32m   1152\u001b[0m \u001b[1;33m\u001b[0m\u001b[0m\n",
      "\u001b[1;32m/usr/lib/python3.5/http/client.py\u001b[0m in \u001b[0;36mendheaders\u001b[1;34m(self, message_body)\u001b[0m\n\u001b[0;32m   1101\u001b[0m             \u001b[1;32mraise\u001b[0m \u001b[0mCannotSendHeader\u001b[0m\u001b[1;33m(\u001b[0m\u001b[1;33m)\u001b[0m\u001b[1;33m\u001b[0m\u001b[0m\n\u001b[1;32m-> 1102\u001b[1;33m         \u001b[0mself\u001b[0m\u001b[1;33m.\u001b[0m\u001b[0m_send_output\u001b[0m\u001b[1;33m(\u001b[0m\u001b[0mmessage_body\u001b[0m\u001b[1;33m)\u001b[0m\u001b[1;33m\u001b[0m\u001b[0m\n\u001b[0m\u001b[0;32m   1103\u001b[0m \u001b[1;33m\u001b[0m\u001b[0m\n",
      "\u001b[1;32m/usr/lib/python3.5/http/client.py\u001b[0m in \u001b[0;36m_send_output\u001b[1;34m(self, message_body)\u001b[0m\n\u001b[0;32m    933\u001b[0m \u001b[1;33m\u001b[0m\u001b[0m\n\u001b[1;32m--> 934\u001b[1;33m         \u001b[0mself\u001b[0m\u001b[1;33m.\u001b[0m\u001b[0msend\u001b[0m\u001b[1;33m(\u001b[0m\u001b[0mmsg\u001b[0m\u001b[1;33m)\u001b[0m\u001b[1;33m\u001b[0m\u001b[0m\n\u001b[0m\u001b[0;32m    935\u001b[0m         \u001b[1;32mif\u001b[0m \u001b[0mmessage_body\u001b[0m \u001b[1;32mis\u001b[0m \u001b[1;32mnot\u001b[0m \u001b[1;32mNone\u001b[0m\u001b[1;33m:\u001b[0m\u001b[1;33m\u001b[0m\u001b[0m\n",
      "\u001b[1;32m/usr/lib/python3.5/http/client.py\u001b[0m in \u001b[0;36msend\u001b[1;34m(self, data)\u001b[0m\n\u001b[0;32m    876\u001b[0m             \u001b[1;32mif\u001b[0m \u001b[0mself\u001b[0m\u001b[1;33m.\u001b[0m\u001b[0mauto_open\u001b[0m\u001b[1;33m:\u001b[0m\u001b[1;33m\u001b[0m\u001b[0m\n\u001b[1;32m--> 877\u001b[1;33m                 \u001b[0mself\u001b[0m\u001b[1;33m.\u001b[0m\u001b[0mconnect\u001b[0m\u001b[1;33m(\u001b[0m\u001b[1;33m)\u001b[0m\u001b[1;33m\u001b[0m\u001b[0m\n\u001b[0m\u001b[0;32m    878\u001b[0m             \u001b[1;32melse\u001b[0m\u001b[1;33m:\u001b[0m\u001b[1;33m\u001b[0m\u001b[0m\n",
      "\u001b[1;32m/usr/lib/python3.5/http/client.py\u001b[0m in \u001b[0;36mconnect\u001b[1;34m(self)\u001b[0m\n\u001b[0;32m    848\u001b[0m         self.sock = self._create_connection(\n\u001b[1;32m--> 849\u001b[1;33m             (self.host,self.port), self.timeout, self.source_address)\n\u001b[0m\u001b[0;32m    850\u001b[0m         \u001b[0mself\u001b[0m\u001b[1;33m.\u001b[0m\u001b[0msock\u001b[0m\u001b[1;33m.\u001b[0m\u001b[0msetsockopt\u001b[0m\u001b[1;33m(\u001b[0m\u001b[0msocket\u001b[0m\u001b[1;33m.\u001b[0m\u001b[0mIPPROTO_TCP\u001b[0m\u001b[1;33m,\u001b[0m \u001b[0msocket\u001b[0m\u001b[1;33m.\u001b[0m\u001b[0mTCP_NODELAY\u001b[0m\u001b[1;33m,\u001b[0m \u001b[1;36m1\u001b[0m\u001b[1;33m)\u001b[0m\u001b[1;33m\u001b[0m\u001b[0m\n",
      "\u001b[1;32m/usr/lib/python3.5/socket.py\u001b[0m in \u001b[0;36mcreate_connection\u001b[1;34m(address, timeout, source_address)\u001b[0m\n\u001b[0;32m    710\u001b[0m     \u001b[1;32mif\u001b[0m \u001b[0merr\u001b[0m \u001b[1;32mis\u001b[0m \u001b[1;32mnot\u001b[0m \u001b[1;32mNone\u001b[0m\u001b[1;33m:\u001b[0m\u001b[1;33m\u001b[0m\u001b[0m\n\u001b[1;32m--> 711\u001b[1;33m         \u001b[1;32mraise\u001b[0m \u001b[0merr\u001b[0m\u001b[1;33m\u001b[0m\u001b[0m\n\u001b[0m\u001b[0;32m    712\u001b[0m     \u001b[1;32melse\u001b[0m\u001b[1;33m:\u001b[0m\u001b[1;33m\u001b[0m\u001b[0m\n",
      "\u001b[1;32m/usr/lib/python3.5/socket.py\u001b[0m in \u001b[0;36mcreate_connection\u001b[1;34m(address, timeout, source_address)\u001b[0m\n\u001b[0;32m    701\u001b[0m                 \u001b[0msock\u001b[0m\u001b[1;33m.\u001b[0m\u001b[0mbind\u001b[0m\u001b[1;33m(\u001b[0m\u001b[0msource_address\u001b[0m\u001b[1;33m)\u001b[0m\u001b[1;33m\u001b[0m\u001b[0m\n\u001b[1;32m--> 702\u001b[1;33m             \u001b[0msock\u001b[0m\u001b[1;33m.\u001b[0m\u001b[0mconnect\u001b[0m\u001b[1;33m(\u001b[0m\u001b[0msa\u001b[0m\u001b[1;33m)\u001b[0m\u001b[1;33m\u001b[0m\u001b[0m\n\u001b[0m\u001b[0;32m    703\u001b[0m             \u001b[1;32mreturn\u001b[0m \u001b[0msock\u001b[0m\u001b[1;33m\u001b[0m\u001b[0m\n",
      "\u001b[1;31mConnectionRefusedError\u001b[0m: [Errno 111] Connection refused",
      "\nDuring handling of the above exception, another exception occurred:\n",
      "\u001b[1;31mURLError\u001b[0m                                  Traceback (most recent call last)",
      "\u001b[1;32m<ipython-input-11-27da54639cdc>\u001b[0m in \u001b[0;36m<module>\u001b[1;34m()\u001b[0m\n\u001b[1;32m----> 1\u001b[1;33m \u001b[0mplay_game\u001b[0m\u001b[1;33m(\u001b[0m\u001b[1;33m)\u001b[0m\u001b[1;33m\u001b[0m\u001b[0m\n\u001b[0m",
      "\u001b[1;32m<ipython-input-10-98adfc16c1e3>\u001b[0m in \u001b[0;36mplay_game\u001b[1;34m()\u001b[0m\n\u001b[0;32m      3\u001b[0m     \u001b[0mmy_board\u001b[0m \u001b[1;33m=\u001b[0m \u001b[0mcreate_board\u001b[0m\u001b[1;33m(\u001b[0m\u001b[1;33m)\u001b[0m\u001b[1;33m\u001b[0m\u001b[0m\n\u001b[0;32m      4\u001b[0m     \u001b[0mmy_plays\u001b[0m \u001b[1;33m=\u001b[0m \u001b[0mtrack_plays\u001b[0m\u001b[1;33m(\u001b[0m\u001b[0mmy_game\u001b[0m\u001b[1;33m[\u001b[0m\u001b[1;36m0\u001b[0m\u001b[1;33m]\u001b[0m\u001b[1;33m,\u001b[0m \u001b[0mmy_game\u001b[0m\u001b[1;33m[\u001b[0m\u001b[1;36m2\u001b[0m\u001b[1;33m]\u001b[0m\u001b[1;33m,\u001b[0m \u001b[0mmy_board\u001b[0m\u001b[1;33m)\u001b[0m\u001b[1;33m\u001b[0m\u001b[0m\n\u001b[1;32m----> 5\u001b[1;33m     \u001b[0mmy_validated_plays\u001b[0m \u001b[1;33m=\u001b[0m \u001b[0mvalidate_plays\u001b[0m\u001b[1;33m(\u001b[0m\u001b[0mmy_plays\u001b[0m\u001b[1;33m,\u001b[0m \u001b[0mmy_board\u001b[0m\u001b[1;33m)\u001b[0m\u001b[1;33m\u001b[0m\u001b[0m\n\u001b[0m\u001b[0;32m      6\u001b[0m     \u001b[0mmy_results\u001b[0m \u001b[1;33m=\u001b[0m \u001b[0mscore_plays\u001b[0m\u001b[1;33m(\u001b[0m\u001b[0mmy_game\u001b[0m\u001b[1;33m[\u001b[0m\u001b[1;36m0\u001b[0m\u001b[1;33m]\u001b[0m\u001b[1;33m,\u001b[0m \u001b[0mmy_validated_plays\u001b[0m\u001b[1;33m,\u001b[0m \u001b[0mmy_board\u001b[0m\u001b[1;33m)\u001b[0m\u001b[1;33m\u001b[0m\u001b[0m\n",
      "\u001b[1;32m<ipython-input-7-daaeb208978b>\u001b[0m in \u001b[0;36mvalidate_plays\u001b[1;34m(play_tracker, boggle_board)\u001b[0m\n\u001b[0;32m     33\u001b[0m     \u001b[0mboard_as_str\u001b[0m \u001b[1;33m=\u001b[0m \u001b[1;34m''\u001b[0m\u001b[1;33m.\u001b[0m\u001b[0mjoin\u001b[0m\u001b[1;33m(\u001b[0m\u001b[1;33m[\u001b[0m\u001b[0mi\u001b[0m\u001b[1;33m.\u001b[0m\u001b[0mstrip\u001b[0m\u001b[1;33m(\u001b[0m\u001b[1;33m)\u001b[0m \u001b[1;32mfor\u001b[0m \u001b[0mi\u001b[0m \u001b[1;32min\u001b[0m \u001b[0mboggle_board\u001b[0m\u001b[1;33m]\u001b[0m\u001b[1;33m)\u001b[0m\u001b[1;33m\u001b[0m\u001b[0m\n\u001b[0;32m     34\u001b[0m     \u001b[0mmy_url\u001b[0m \u001b[1;33m=\u001b[0m \u001b[1;34m\"http://fuzzylogicinc.net/boggle/Solver.svc?BoardID=\"\u001b[0m\u001b[1;33m+\u001b[0m\u001b[0mboard_as_str\u001b[0m\u001b[1;33m+\u001b[0m\u001b[1;34m\"&Length=3\"\u001b[0m\u001b[1;33m\u001b[0m\u001b[0m\n\u001b[1;32m---> 35\u001b[1;33m     \u001b[1;32mwith\u001b[0m \u001b[0murllib\u001b[0m\u001b[1;33m.\u001b[0m\u001b[0mrequest\u001b[0m\u001b[1;33m.\u001b[0m\u001b[0murlopen\u001b[0m\u001b[1;33m(\u001b[0m\u001b[0mmy_url\u001b[0m\u001b[1;33m)\u001b[0m \u001b[1;32mas\u001b[0m \u001b[0mresponse\u001b[0m\u001b[1;33m:\u001b[0m\u001b[1;33m\u001b[0m\u001b[0m\n\u001b[0m\u001b[0;32m     36\u001b[0m         \u001b[0mboggle_page\u001b[0m \u001b[1;33m=\u001b[0m \u001b[0mresponse\u001b[0m\u001b[1;33m.\u001b[0m\u001b[0mread\u001b[0m\u001b[1;33m(\u001b[0m\u001b[1;33m)\u001b[0m\u001b[1;33m\u001b[0m\u001b[0m\n\u001b[0;32m     37\u001b[0m     \u001b[0mmy_page\u001b[0m \u001b[1;33m=\u001b[0m \u001b[0mboggle_page\u001b[0m\u001b[1;33m.\u001b[0m\u001b[0mdecode\u001b[0m\u001b[1;33m(\u001b[0m\u001b[1;34m'utf-8'\u001b[0m\u001b[1;33m)\u001b[0m\u001b[1;33m\u001b[0m\u001b[0m\n",
      "\u001b[1;32m/usr/lib/python3.5/urllib/request.py\u001b[0m in \u001b[0;36murlopen\u001b[1;34m(url, data, timeout, cafile, capath, cadefault, context)\u001b[0m\n\u001b[0;32m    161\u001b[0m     \u001b[1;32melse\u001b[0m\u001b[1;33m:\u001b[0m\u001b[1;33m\u001b[0m\u001b[0m\n\u001b[0;32m    162\u001b[0m         \u001b[0mopener\u001b[0m \u001b[1;33m=\u001b[0m \u001b[0m_opener\u001b[0m\u001b[1;33m\u001b[0m\u001b[0m\n\u001b[1;32m--> 163\u001b[1;33m     \u001b[1;32mreturn\u001b[0m \u001b[0mopener\u001b[0m\u001b[1;33m.\u001b[0m\u001b[0mopen\u001b[0m\u001b[1;33m(\u001b[0m\u001b[0murl\u001b[0m\u001b[1;33m,\u001b[0m \u001b[0mdata\u001b[0m\u001b[1;33m,\u001b[0m \u001b[0mtimeout\u001b[0m\u001b[1;33m)\u001b[0m\u001b[1;33m\u001b[0m\u001b[0m\n\u001b[0m\u001b[0;32m    164\u001b[0m \u001b[1;33m\u001b[0m\u001b[0m\n\u001b[0;32m    165\u001b[0m \u001b[1;32mdef\u001b[0m \u001b[0minstall_opener\u001b[0m\u001b[1;33m(\u001b[0m\u001b[0mopener\u001b[0m\u001b[1;33m)\u001b[0m\u001b[1;33m:\u001b[0m\u001b[1;33m\u001b[0m\u001b[0m\n",
      "\u001b[1;32m/usr/lib/python3.5/urllib/request.py\u001b[0m in \u001b[0;36mopen\u001b[1;34m(self, fullurl, data, timeout)\u001b[0m\n\u001b[0;32m    464\u001b[0m             \u001b[0mreq\u001b[0m \u001b[1;33m=\u001b[0m \u001b[0mmeth\u001b[0m\u001b[1;33m(\u001b[0m\u001b[0mreq\u001b[0m\u001b[1;33m)\u001b[0m\u001b[1;33m\u001b[0m\u001b[0m\n\u001b[0;32m    465\u001b[0m \u001b[1;33m\u001b[0m\u001b[0m\n\u001b[1;32m--> 466\u001b[1;33m         \u001b[0mresponse\u001b[0m \u001b[1;33m=\u001b[0m \u001b[0mself\u001b[0m\u001b[1;33m.\u001b[0m\u001b[0m_open\u001b[0m\u001b[1;33m(\u001b[0m\u001b[0mreq\u001b[0m\u001b[1;33m,\u001b[0m \u001b[0mdata\u001b[0m\u001b[1;33m)\u001b[0m\u001b[1;33m\u001b[0m\u001b[0m\n\u001b[0m\u001b[0;32m    467\u001b[0m \u001b[1;33m\u001b[0m\u001b[0m\n\u001b[0;32m    468\u001b[0m         \u001b[1;31m# post-process response\u001b[0m\u001b[1;33m\u001b[0m\u001b[1;33m\u001b[0m\u001b[0m\n",
      "\u001b[1;32m/usr/lib/python3.5/urllib/request.py\u001b[0m in \u001b[0;36m_open\u001b[1;34m(self, req, data)\u001b[0m\n\u001b[0;32m    482\u001b[0m         \u001b[0mprotocol\u001b[0m \u001b[1;33m=\u001b[0m \u001b[0mreq\u001b[0m\u001b[1;33m.\u001b[0m\u001b[0mtype\u001b[0m\u001b[1;33m\u001b[0m\u001b[0m\n\u001b[0;32m    483\u001b[0m         result = self._call_chain(self.handle_open, protocol, protocol +\n\u001b[1;32m--> 484\u001b[1;33m                                   '_open', req)\n\u001b[0m\u001b[0;32m    485\u001b[0m         \u001b[1;32mif\u001b[0m \u001b[0mresult\u001b[0m\u001b[1;33m:\u001b[0m\u001b[1;33m\u001b[0m\u001b[0m\n\u001b[0;32m    486\u001b[0m             \u001b[1;32mreturn\u001b[0m \u001b[0mresult\u001b[0m\u001b[1;33m\u001b[0m\u001b[0m\n",
      "\u001b[1;32m/usr/lib/python3.5/urllib/request.py\u001b[0m in \u001b[0;36m_call_chain\u001b[1;34m(self, chain, kind, meth_name, *args)\u001b[0m\n\u001b[0;32m    442\u001b[0m         \u001b[1;32mfor\u001b[0m \u001b[0mhandler\u001b[0m \u001b[1;32min\u001b[0m \u001b[0mhandlers\u001b[0m\u001b[1;33m:\u001b[0m\u001b[1;33m\u001b[0m\u001b[0m\n\u001b[0;32m    443\u001b[0m             \u001b[0mfunc\u001b[0m \u001b[1;33m=\u001b[0m \u001b[0mgetattr\u001b[0m\u001b[1;33m(\u001b[0m\u001b[0mhandler\u001b[0m\u001b[1;33m,\u001b[0m \u001b[0mmeth_name\u001b[0m\u001b[1;33m)\u001b[0m\u001b[1;33m\u001b[0m\u001b[0m\n\u001b[1;32m--> 444\u001b[1;33m             \u001b[0mresult\u001b[0m \u001b[1;33m=\u001b[0m \u001b[0mfunc\u001b[0m\u001b[1;33m(\u001b[0m\u001b[1;33m*\u001b[0m\u001b[0margs\u001b[0m\u001b[1;33m)\u001b[0m\u001b[1;33m\u001b[0m\u001b[0m\n\u001b[0m\u001b[0;32m    445\u001b[0m             \u001b[1;32mif\u001b[0m \u001b[0mresult\u001b[0m \u001b[1;32mis\u001b[0m \u001b[1;32mnot\u001b[0m \u001b[1;32mNone\u001b[0m\u001b[1;33m:\u001b[0m\u001b[1;33m\u001b[0m\u001b[0m\n\u001b[0;32m    446\u001b[0m                 \u001b[1;32mreturn\u001b[0m \u001b[0mresult\u001b[0m\u001b[1;33m\u001b[0m\u001b[0m\n",
      "\u001b[1;32m/usr/lib/python3.5/urllib/request.py\u001b[0m in \u001b[0;36mhttp_open\u001b[1;34m(self, req)\u001b[0m\n\u001b[0;32m   1280\u001b[0m \u001b[1;33m\u001b[0m\u001b[0m\n\u001b[0;32m   1281\u001b[0m     \u001b[1;32mdef\u001b[0m \u001b[0mhttp_open\u001b[0m\u001b[1;33m(\u001b[0m\u001b[0mself\u001b[0m\u001b[1;33m,\u001b[0m \u001b[0mreq\u001b[0m\u001b[1;33m)\u001b[0m\u001b[1;33m:\u001b[0m\u001b[1;33m\u001b[0m\u001b[0m\n\u001b[1;32m-> 1282\u001b[1;33m         \u001b[1;32mreturn\u001b[0m \u001b[0mself\u001b[0m\u001b[1;33m.\u001b[0m\u001b[0mdo_open\u001b[0m\u001b[1;33m(\u001b[0m\u001b[0mhttp\u001b[0m\u001b[1;33m.\u001b[0m\u001b[0mclient\u001b[0m\u001b[1;33m.\u001b[0m\u001b[0mHTTPConnection\u001b[0m\u001b[1;33m,\u001b[0m \u001b[0mreq\u001b[0m\u001b[1;33m)\u001b[0m\u001b[1;33m\u001b[0m\u001b[0m\n\u001b[0m\u001b[0;32m   1283\u001b[0m \u001b[1;33m\u001b[0m\u001b[0m\n\u001b[0;32m   1284\u001b[0m     \u001b[0mhttp_request\u001b[0m \u001b[1;33m=\u001b[0m \u001b[0mAbstractHTTPHandler\u001b[0m\u001b[1;33m.\u001b[0m\u001b[0mdo_request_\u001b[0m\u001b[1;33m\u001b[0m\u001b[0m\n",
      "\u001b[1;32m/usr/lib/python3.5/urllib/request.py\u001b[0m in \u001b[0;36mdo_open\u001b[1;34m(self, http_class, req, **http_conn_args)\u001b[0m\n\u001b[0;32m   1254\u001b[0m                 \u001b[0mh\u001b[0m\u001b[1;33m.\u001b[0m\u001b[0mrequest\u001b[0m\u001b[1;33m(\u001b[0m\u001b[0mreq\u001b[0m\u001b[1;33m.\u001b[0m\u001b[0mget_method\u001b[0m\u001b[1;33m(\u001b[0m\u001b[1;33m)\u001b[0m\u001b[1;33m,\u001b[0m \u001b[0mreq\u001b[0m\u001b[1;33m.\u001b[0m\u001b[0mselector\u001b[0m\u001b[1;33m,\u001b[0m \u001b[0mreq\u001b[0m\u001b[1;33m.\u001b[0m\u001b[0mdata\u001b[0m\u001b[1;33m,\u001b[0m \u001b[0mheaders\u001b[0m\u001b[1;33m)\u001b[0m\u001b[1;33m\u001b[0m\u001b[0m\n\u001b[0;32m   1255\u001b[0m             \u001b[1;32mexcept\u001b[0m \u001b[0mOSError\u001b[0m \u001b[1;32mas\u001b[0m \u001b[0merr\u001b[0m\u001b[1;33m:\u001b[0m \u001b[1;31m# timeout error\u001b[0m\u001b[1;33m\u001b[0m\u001b[0m\n\u001b[1;32m-> 1256\u001b[1;33m                 \u001b[1;32mraise\u001b[0m \u001b[0mURLError\u001b[0m\u001b[1;33m(\u001b[0m\u001b[0merr\u001b[0m\u001b[1;33m)\u001b[0m\u001b[1;33m\u001b[0m\u001b[0m\n\u001b[0m\u001b[0;32m   1257\u001b[0m             \u001b[0mr\u001b[0m \u001b[1;33m=\u001b[0m \u001b[0mh\u001b[0m\u001b[1;33m.\u001b[0m\u001b[0mgetresponse\u001b[0m\u001b[1;33m(\u001b[0m\u001b[1;33m)\u001b[0m\u001b[1;33m\u001b[0m\u001b[0m\n\u001b[0;32m   1258\u001b[0m         \u001b[1;32mexcept\u001b[0m\u001b[1;33m:\u001b[0m\u001b[1;33m\u001b[0m\u001b[0m\n",
      "\u001b[1;31mURLError\u001b[0m: <urlopen error [Errno 111] Connection refused>"
     ]
    }
   ],
   "source": [
    "play_game()"
   ]
  },
  {
   "cell_type": "code",
   "execution_count": null,
   "metadata": {
    "collapsed": true
   },
   "outputs": [],
   "source": []
  }
 ],
 "metadata": {
  "kernelspec": {
   "display_name": "Python 3",
   "language": "python",
   "name": "python3"
  },
  "language_info": {
   "codemirror_mode": {
    "name": "ipython",
    "version": 3
   },
   "file_extension": ".py",
   "mimetype": "text/x-python",
   "name": "python",
   "nbconvert_exporter": "python",
   "pygments_lexer": "ipython3",
   "version": "3.6.0"
  }
 },
 "nbformat": 4,
 "nbformat_minor": 0
}
